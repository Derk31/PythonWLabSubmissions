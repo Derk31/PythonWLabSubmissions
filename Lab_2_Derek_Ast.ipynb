{
  "nbformat": 4,
  "nbformat_minor": 0,
  "metadata": {
    "colab": {
      "provenance": [],
      "authorship_tag": "ABX9TyOEcl0vNGEjh8qmYKt0NOeY",
      "include_colab_link": true
    },
    "kernelspec": {
      "name": "python3",
      "display_name": "Python 3"
    },
    "language_info": {
      "name": "python"
    }
  },
  "cells": [
    {
      "cell_type": "markdown",
      "metadata": {
        "id": "view-in-github",
        "colab_type": "text"
      },
      "source": [
        "<a href=\"https://colab.research.google.com/github/Derk31/PythonWLabSubmissions/blob/main/Lab_2_Derek_Ast.ipynb\" target=\"_parent\"><img src=\"https://colab.research.google.com/assets/colab-badge.svg\" alt=\"Open In Colab\"/></a>"
      ]
    },
    {
      "cell_type": "code",
      "execution_count": null,
      "metadata": {
        "id": "tUbf3VD9dWvs"
      },
      "outputs": [],
      "source": []
    },
    {
      "cell_type": "markdown",
      "source": [
        "# Derek Ast\n",
        "## Lab 2\n",
        "### W"
      ],
      "metadata": {
        "id": "ItVSglridcF4"
      }
    },
    {
      "cell_type": "code",
      "source": [
        "# 1) Dollar Store\n",
        "\n",
        "# Prompt Number of Items\n",
        "numberItems = float(input('How many items are purchased?'))\n",
        "\n",
        "# Since items are $1, gross cost will = # of items\n",
        "grossCost = numberItems\n",
        "\n",
        "taxRate = 7.5\n",
        "\n",
        "if numberItems >= 10:\n",
        "    discount = numberItems * .05\n",
        "else:\n",
        "    discount = 0\n",
        "\n",
        "netCost = grossCost - discount\n",
        "tax = netCost * taxRate / 100\n",
        "afterTaxCost = netCost + tax\n",
        "\n",
        "# Display the Result\n",
        "print('Gross Cost:', grossCost, '\\n',\n",
        "      'Discount:', discount, '\\n',\n",
        "      'Net Cost', netCost, '\\n',\n",
        "      '\\n'\n",
        "      'Tax:', round(tax,2),'\\n',\n",
        "      'After Tax:', round(afterTaxCost,2))"
      ],
      "metadata": {
        "colab": {
          "base_uri": "https://localhost:8080/"
        },
        "id": "OzPdgFKQd2Qz",
        "outputId": "10818071-af1a-471f-aa68-1ce9416bc18b"
      },
      "execution_count": 4,
      "outputs": [
        {
          "output_type": "stream",
          "name": "stdout",
          "text": [
            "How many items are purchased?11\n",
            "Gross Cost: 11.0 \n",
            " Discount: 0.55 \n",
            " Net Cost 10.45 \n",
            " \n",
            "Tax: 0.78 \n",
            " After Tax: 11.23\n"
          ]
        }
      ]
    }
  ]
}